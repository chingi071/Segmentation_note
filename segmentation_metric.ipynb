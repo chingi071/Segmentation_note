{
  "nbformat": 4,
  "nbformat_minor": 0,
  "metadata": {
    "colab": {
      "provenance": []
    },
    "kernelspec": {
      "name": "python3",
      "display_name": "Python 3"
    },
    "language_info": {
      "name": "python"
    }
  },
  "cells": [
    {
      "cell_type": "markdown",
      "source": [
        "# 影像分割評估指標"
      ],
      "metadata": {
        "id": "JqzFlCZgN2Hd"
      }
    },
    {
      "cell_type": "markdown",
      "source": [
        "## 匯入所需套件"
      ],
      "metadata": {
        "id": "v006Z4MrN7vq"
      }
    },
    {
      "cell_type": "code",
      "execution_count": null,
      "metadata": {
        "id": "2nAPQJN4GWcu"
      },
      "outputs": [],
      "source": [
        "import numpy as np\n",
        "import pandas as pd\n",
        "import cv2\n",
        "import matplotlib.pyplot as plt\n",
        "import seaborn as sns\n",
        "from sklearn.metrics import confusion_matrix"
      ]
    },
    {
      "cell_type": "markdown",
      "source": [
        "# Confusion Matrix\n",
        "\n",
        "假設我們要預測的類別為兩類：有病 (label=1)、沒病 (label=0)\n",
        "\n",
        "* TP (True Positive)：該類別實際為有病，預測也為有病 (真陽性，表示檢測正確)。\n",
        "\n",
        "* FP (False Positive)：該類別實際為沒有病，預測成有病 (真陰性，表示誤檢)。\n",
        "\n",
        "* FN (False Negative)：該類別實際為有病，預測為沒有病 (假陰性，表示漏檢)。\n",
        "\n",
        "* TN (True Negative)：該類別實際為沒有病，預測也為沒有病 (假陽性，不需要被檢測的地方沒被檢測出來)。\n",
        "\n",
        "\n",
        "\n"
      ],
      "metadata": {
        "id": "cuKIfCNQkTJc"
      }
    },
    {
      "cell_type": "markdown",
      "source": [
        "<img src=\"https://imgur.com/6wtOsZJ.png\" width=400/>\n"
      ],
      "metadata": {
        "id": "BsUj5OreesiS"
      }
    },
    {
      "cell_type": "code",
      "source": [
        "ground_truth = np.array([1, 1, 0, 1, 0, 0, 1, 1, 0])\n",
        "pred_label = np.array([1, 0, 0, 1, 1, 0, 1, 1, 1])"
      ],
      "metadata": {
        "id": "iDvmKjzR9x7n"
      },
      "execution_count": null,
      "outputs": []
    },
    {
      "cell_type": "code",
      "source": [
        "### tp\n",
        "# 所有實際與預測相同的值\n",
        "gt_equal_pred = np.where(ground_truth==pred_label, 1, 0)\n",
        "\n",
        "# 實際值與預測值相同，並且實際為真\n",
        "tp = np.sum(gt_equal_pred * ground_truth)\n",
        "\n",
        "### fn\n",
        "# 所有實際為真的數量去除掉 TP\n",
        "fn = np.sum(ground_truth) - tp\n",
        "\n",
        "### fp\n",
        "# 所有預測為真的數量去除掉 TP\n",
        "fp = np.sum(pred_label) - tp\n",
        "\n",
        "### tn\n",
        "# 所有實際為假的值\n",
        "gt_is_false = np.where(np.logical_not(ground_truth), 1, 0)\n",
        "\n",
        "# 實際值與預測值相同，並且預測為假\n",
        "tn = np.sum(gt_equal_pred * gt_is_false)\n",
        "\n",
        "print(\"tp: \", tp)\n",
        "print(\"fn: \", fn)\n",
        "print(\"fp: \", fp)\n",
        "print(\"tn: \", tn)"
      ],
      "metadata": {
        "colab": {
          "base_uri": "https://localhost:8080/"
        },
        "id": "URmKWn3epqdJ",
        "outputId": "260b5024-26e1-4e32-d328-00eab2860f10"
      },
      "execution_count": null,
      "outputs": [
        {
          "output_type": "stream",
          "name": "stdout",
          "text": [
            "tp:  4\n",
            "fn:  1\n",
            "fp:  2\n",
            "tn:  2\n"
          ]
        }
      ]
    },
    {
      "cell_type": "markdown",
      "source": [
        "可以藉由 sklearn 計算 confusion matrix，參考: [sklearn.metrics.confusion_matrix](https://scikit-learn.org/stable/modules/generated/sklearn.metrics.confusion_matrix.html)\n"
      ],
      "metadata": {
        "id": "15Y_gHbv5is4"
      }
    },
    {
      "cell_type": "code",
      "source": [
        "tn, fp, fn, tp = confusion_matrix(ground_truth, pred_label).ravel()\n",
        "print(\"tp: \", tp)\n",
        "print(\"fn: \", fn)\n",
        "print(\"fp: \", fp)\n",
        "print(\"tn: \", tn)"
      ],
      "metadata": {
        "colab": {
          "base_uri": "https://localhost:8080/"
        },
        "id": "dVas68QZsKE1",
        "outputId": "a3c3bab9-86a3-4419-8b80-586b8f22b812"
      },
      "execution_count": null,
      "outputs": [
        {
          "output_type": "stream",
          "name": "stdout",
          "text": [
            "tp:  4\n",
            "fn:  1\n",
            "fp:  2\n",
            "tn:  2\n"
          ]
        }
      ]
    },
    {
      "cell_type": "markdown",
      "source": [
        "接著可以將 Confusion Matrix 畫圖顯示"
      ],
      "metadata": {
        "id": "DHCCh-_Qd-ll"
      }
    },
    {
      "cell_type": "code",
      "source": [
        "def confusion_matrix_plot(y_true, y_pred, classes_names):\n",
        "  plt.figure(figsize=(8, 6))\n",
        "  classes_number = [i for i in range(len(classes_names))]\n",
        "  tn, fp, fn, tp = confusion_matrix(ground_truth, pred_label, labels=classes_number).ravel()\n",
        "  cf_matrix = np.array([[tp,fn],[fp,tn]])\n",
        "  cf_matrix = pd.DataFrame(cf_matrix, index = classes_names, columns = classes_names)  \n",
        "  sns.heatmap(cf_matrix, cmap='Blues', annot=True)\n",
        "  plt.title('Confusion Matrix', fontsize=16)\n",
        "  plt.xlabel('Predicted', fontsize=16)\n",
        "  plt.ylabel('Actual', fontsize=16)\n",
        "  plt.show()"
      ],
      "metadata": {
        "id": "dKhS8gsFkWqQ"
      },
      "execution_count": null,
      "outputs": []
    },
    {
      "cell_type": "code",
      "source": [
        "confusion_matrix_plot(ground_truth, pred_label, ['YES', 'NO'])"
      ],
      "metadata": {
        "colab": {
          "base_uri": "https://localhost:8080/",
          "height": 411
        },
        "id": "1PJQMBokrz_-",
        "outputId": "a774c86f-aff5-4860-8720-cd8efc169190"
      },
      "execution_count": null,
      "outputs": [
        {
          "output_type": "display_data",
          "data": {
            "text/plain": [
              "<Figure size 576x432 with 2 Axes>"
            ],
            "image/png": "[encoded data removed]"
          },
          "metadata": {
            "needs_background": "light"
          }
        }
      ]
    },
    {
      "cell_type": "markdown",
      "source": [
        "# IoU\n",
        "\n",
        "<img src=\"https://imgur.com/IVftRDH.png\" width=800/>"
      ],
      "metadata": {
        "id": "pHldEJI3MKj8"
      }
    },
    {
      "cell_type": "code",
      "source": [
        "iou = tp / (tp + fp + fn)\n",
        "print(\"iou:\", iou)"
      ],
      "metadata": {
        "id": "j1Dyn5QkvGh0",
        "colab": {
          "base_uri": "https://localhost:8080/"
        },
        "outputId": "c13bcd39-71c2-4ceb-b609-5e04f8df95cd"
      },
      "execution_count": null,
      "outputs": [
        {
          "output_type": "stream",
          "name": "stdout",
          "text": [
            "iou: 0.5714285714285714\n"
          ]
        }
      ]
    },
    {
      "cell_type": "markdown",
      "source": [
        "# Precision、Recall\n",
        "\n",
        "*   Precision (精確率)：所有預測為真的數據中，實際也為真的機率\n",
        "\n",
        "*   Recall (召回率)：所有實際為真的數據中，預測也為真的機率\n",
        "\n",
        "<img src=\"https://imgur.com/7Wcfqam.png\" width=300/>\n"
      ],
      "metadata": {
        "id": "mFUi91KhAoxp"
      }
    },
    {
      "cell_type": "markdown",
      "source": [
        "以二分類為例，假設目前總共有十個值\n",
        "\n",
        "* ground_truth 表示是否有病 -> 有病 (label=1)、沒有病 (label=0)\n",
        "\n",
        "* pred_score 為預測出是否有病的機率\n",
        "\n",
        "* threshold 設定為 0.5\n"
      ],
      "metadata": {
        "id": "eFqQflkQeZa2"
      }
    },
    {
      "cell_type": "markdown",
      "source": [
        "<img src=\"https://imgur.com/JwOt26q.png\" width=600/>"
      ],
      "metadata": {
        "id": "EBdgj4FzLjn_"
      }
    },
    {
      "cell_type": "code",
      "source": [
        "ground_truth = np.array([1, 1, 0, 1, 0, 0, 1, 1, 0])\n",
        "pred_score = np.array([0.8, 0.4, 0.1, 0.7, 0.6, 0.2, 0.9, 0.8, 0.6])"
      ],
      "metadata": {
        "id": "PbOO-9tLH8RE"
      },
      "execution_count": null,
      "outputs": []
    },
    {
      "cell_type": "code",
      "source": [
        "threshold = 0.5\n",
        "pred_label = np.where(pred_score > threshold, 1, 0)\n",
        "print(\"pred_label:\", pred_label)"
      ],
      "metadata": {
        "colab": {
          "base_uri": "https://localhost:8080/"
        },
        "id": "uUV8ZxNnnf6v",
        "outputId": "69020e71-ed9e-42bc-9a2d-c7da36e3ecf5"
      },
      "execution_count": null,
      "outputs": [
        {
          "output_type": "stream",
          "name": "stdout",
          "text": [
            "pred_label: [1 0 0 1 1 0 1 1 1]\n"
          ]
        }
      ]
    },
    {
      "cell_type": "code",
      "source": [
        "precision = tp / (tp + fp)\n",
        "print(\"precision:\", precision)"
      ],
      "metadata": {
        "colab": {
          "base_uri": "https://localhost:8080/"
        },
        "id": "D-Zpscg0AjB7",
        "outputId": "887e16d4-d8ca-458d-aa66-f154f30ef679"
      },
      "execution_count": null,
      "outputs": [
        {
          "output_type": "stream",
          "name": "stdout",
          "text": [
            "precision: 0.6666666666666666\n"
          ]
        }
      ]
    },
    {
      "cell_type": "code",
      "source": [
        "recall = tp / (tp + fn)\n",
        "print(\"recall:\", recall)"
      ],
      "metadata": {
        "colab": {
          "base_uri": "https://localhost:8080/"
        },
        "id": "BO4E8VkbAlfJ",
        "outputId": "8c7b1ee2-5448-44df-dad4-a28cfbb7e48b"
      },
      "execution_count": null,
      "outputs": [
        {
          "output_type": "stream",
          "name": "stdout",
          "text": [
            "recall: 0.8\n"
          ]
        }
      ]
    },
    {
      "cell_type": "markdown",
      "source": [
        "# F1-score\n",
        "F1-score 為 Precision、Recall 的調和平均數，可同時考慮這兩個數值\n",
        "\n",
        "<img src=\"https://imgur.com/WLoBr61.png\" width=400/>"
      ],
      "metadata": {
        "id": "TCnjvOUsAtYl"
      }
    },
    {
      "cell_type": "code",
      "source": [
        "f1_score = 2*tp / (2*tp + fp + fn)\n",
        "print(\"f1_score:\", f1_score)"
      ],
      "metadata": {
        "colab": {
          "base_uri": "https://localhost:8080/"
        },
        "id": "l1PZqYCjAlps",
        "outputId": "b1f3629e-b0e3-4584-9bec-b621a1c9bf6b"
      },
      "execution_count": null,
      "outputs": [
        {
          "output_type": "stream",
          "name": "stdout",
          "text": [
            "f1_score: 0.7272727272727273\n"
          ]
        }
      ]
    },
    {
      "cell_type": "markdown",
      "source": [
        "# Sensitivity、Specificity\n",
        "\n",
        "在醫學上經常使用 Sensitivity、Specificity 這兩個指標\n",
        "\n",
        "*   Sensitivity (靈敏度、真陽性率、Recall)：所有實際為真的數據中，預測也為真的機率。表示有多少真正得病的人被診斷出有得病。\n",
        "\n",
        "*   Specificity (特異度、真陰性率)：所有實際為假的數據中，預測也為假的機率。表示有多少沒有得病的人被檢驗正確 (沒得病)。\n",
        "\n"
      ],
      "metadata": {
        "id": "-moWbfFTAxsD"
      }
    },
    {
      "cell_type": "markdown",
      "source": [
        "<img src=\"https://imgur.com/PHzO8Pm.png\" width=400/>"
      ],
      "metadata": {
        "id": "qG5vqpKZMH_8"
      }
    },
    {
      "cell_type": "code",
      "source": [
        "sensitivity = tp / (tp + fn)\n",
        "print(\"sensitivity:\", sensitivity)"
      ],
      "metadata": {
        "colab": {
          "base_uri": "https://localhost:8080/"
        },
        "id": "fbHkDwtjAlsl",
        "outputId": "c500779e-0f84-4e07-ba06-05fff21b1358"
      },
      "execution_count": null,
      "outputs": [
        {
          "output_type": "stream",
          "name": "stdout",
          "text": [
            "sensitivity: 0.8\n"
          ]
        }
      ]
    },
    {
      "cell_type": "code",
      "source": [
        "specificity = tn / (tn + fp)\n",
        "print(\"specificity:\", specificity)"
      ],
      "metadata": {
        "colab": {
          "base_uri": "https://localhost:8080/"
        },
        "id": "6V-mdm40A0d-",
        "outputId": "dd8568d9-88cb-4e2f-dc36-7a9bf8fba30e"
      },
      "execution_count": null,
      "outputs": [
        {
          "output_type": "stream",
          "name": "stdout",
          "text": [
            "specificity: 0.5\n"
          ]
        }
      ]
    },
    {
      "cell_type": "markdown",
      "source": [
        "# P-R Curve\n",
        "\n",
        "P-R Curve 是以 Recall 為 x 軸、 Precision 為 y 軸所繪製出來的圖，Precision、Recall 值越高表示模型越好，P-R Curve 越往右上方靠近，AUC 越大。\n"
      ],
      "metadata": {
        "id": "hxKFq23qA3XU"
      }
    },
    {
      "cell_type": "markdown",
      "source": [
        "<img src=\"https://imgur.com/naGFelD.png\" width=300/>\n"
      ],
      "metadata": {
        "id": "wFWHCsrnMh0f"
      }
    },
    {
      "cell_type": "markdown",
      "source": [
        "以二分類為例，假設目前總共有十個值\n",
        "\n",
        "* ground_truth 表示是否有病 -> 有病 (label=1)、沒有病 (label=0)\n",
        "\n",
        "* pred_score 為預測出是否有病的機率\n",
        "\n",
        "* threshold 設定為 0.5\n",
        "\n",
        "<img src=\"https://imgur.com/JwOt26q.png\" width=500/>\n"
      ],
      "metadata": {
        "id": "qt1p-o51ewPJ"
      }
    },
    {
      "cell_type": "markdown",
      "source": [
        "接著，將 predict_label 進行排序\n",
        "\n",
        "<img src=\"https://imgur.com/vJqzQho.png\" width=600/>"
      ],
      "metadata": {
        "id": "jRXdQQZdj_nJ"
      }
    },
    {
      "cell_type": "code",
      "source": [
        "ground_truth = np.array([1, 1, 0, 1, 0, 0, 1, 1, 0])\n",
        "pred_score = np.array([0.8, 0.4, 0.1, 0.7, 0.6, 0.2, 0.9, 0.8, 0.6])\n",
        "\n",
        "threshold = 0.5"
      ],
      "metadata": {
        "id": "Ow5We_I8BOnm"
      },
      "execution_count": null,
      "outputs": []
    },
    {
      "cell_type": "code",
      "source": [
        "zip_list = zip(ground_truth, pred_score)\n",
        "sort_zip_list = sorted(zip_list, key=lambda x:x[1], reverse=True)\n",
        "zip_list = zip(*sort_zip_list)\n",
        "ground_truth, pred_score = [np.array(list(x)) for x in zip_list]\n",
        "print(\"ground_truth: \", ground_truth)\n",
        "print(\"pred_score: \", pred_score)\n",
        "\n",
        "pred_label = np.where(pred_score>=threshold, 1, 0)\n",
        "print(\"pred_label: \", pred_label)"
      ],
      "metadata": {
        "colab": {
          "base_uri": "https://localhost:8080/"
        },
        "id": "uvCW3Am_A30J",
        "outputId": "e80663e6-d5e6-4de9-e62a-0c324f1dbeb4"
      },
      "execution_count": null,
      "outputs": [
        {
          "output_type": "stream",
          "name": "stdout",
          "text": [
            "ground_truth:  [1 1 1 1 0 0 1 0 0]\n",
            "pred_score:  [0.9 0.8 0.8 0.7 0.6 0.6 0.4 0.2 0.1]\n",
            "pred_label:  [1 1 1 1 1 1 0 0 0]\n"
          ]
        }
      ]
    },
    {
      "cell_type": "markdown",
      "source": [
        "計算每個 pixel 各自的狀態"
      ],
      "metadata": {
        "id": "M3C-7Edue2ei"
      }
    },
    {
      "cell_type": "code",
      "source": [
        "def cal_state_list(ground_truth, pred_label):\n",
        "  nd = len(ground_truth)\n",
        "  tp_list = [0] * nd\n",
        "  tn_list = [0] * nd\n",
        "  fn_list = [0] * nd\n",
        "  fp_list = [0] * nd\n",
        "  for i in range(len(ground_truth)):\n",
        "    gt = ground_truth[i]\n",
        "    pred = pred_label[i]\n",
        "\n",
        "    if gt == 1 and pred == 1:\n",
        "      tp_list[i] = 1\n",
        "\n",
        "    elif gt == 1 and pred == 0:\n",
        "      fn_list[i] = 1\n",
        "    \n",
        "    elif gt == 0 and pred == 1:\n",
        "      fp_list[i] = 1\n",
        "\n",
        "    else:\n",
        "      tn_list[i] = 1\n",
        "\n",
        "  return tp_list, tn_list, fn_list, fp_list"
      ],
      "metadata": {
        "id": "j3gbGsupB_oy"
      },
      "execution_count": null,
      "outputs": []
    },
    {
      "cell_type": "code",
      "source": [
        "tp_list, tn_list, fn_list, fp_list = cal_state_list(ground_truth, pred_label)\n",
        "tp_fn_len = np.sum(fn_list) + np.sum(tp_list)\n",
        "\n",
        "print(\"tp_list: \", tp_list)\n",
        "print(\"tn_list: \", tn_list)\n",
        "print(\"fn_list: \", fn_list)\n",
        "print(\"fp_list: \", fp_list)"
      ],
      "metadata": {
        "id": "L0hoYfdtCYVb",
        "colab": {
          "base_uri": "https://localhost:8080/"
        },
        "outputId": "1f63f9cc-b165-4d15-abcd-9916f07351c5"
      },
      "execution_count": null,
      "outputs": [
        {
          "output_type": "stream",
          "name": "stdout",
          "text": [
            "tp_list:  [1, 1, 1, 1, 0, 0, 0, 0, 0]\n",
            "tn_list:  [0, 0, 0, 0, 0, 0, 0, 1, 1]\n",
            "fn_list:  [0, 0, 0, 0, 0, 0, 1, 0, 0]\n",
            "fp_list:  [0, 0, 0, 0, 1, 1, 0, 0, 0]\n"
          ]
        }
      ]
    },
    {
      "cell_type": "markdown",
      "source": [
        "從 rank =1 開始，一個一個 rank 計算 Precision、Recall\n",
        "\n",
        "<img src=\"https://imgur.com/Eq4pjOX.png\" width=800/>"
      ],
      "metadata": {
        "id": "l8bQcukbgptf"
      }
    },
    {
      "cell_type": "code",
      "source": [
        "# refer; https://github.com/Cartucho/mAP/blob/3605865a350859e60c7b711838d09c4e0012c774/main.py\n",
        "\n",
        "cumsum = 0\n",
        "for idx, val in enumerate(fp_list):\n",
        "    fp_list[idx] += cumsum\n",
        "    cumsum += val\n",
        "\n",
        "cumsum = 0\n",
        "for idx, val in enumerate(tp_list):\n",
        "    tp_list[idx] += cumsum\n",
        "    cumsum += val\n",
        "\n",
        "recall = tp_list[:]\n",
        "for idx, val in enumerate(tp_list):\n",
        "  recall[idx] = float(tp_list[idx]) / tp_fn_len\n",
        "\n",
        "precision = tp_list[:]\n",
        "for idx, val in enumerate(tp_list):\n",
        "  precision[idx] = float(tp_list[idx]) / (fp_list[idx] + tp_list[idx])\n",
        "\n",
        "print(\"recall: \", recall)\n",
        "print(\"precision: \", precision)"
      ],
      "metadata": {
        "colab": {
          "base_uri": "https://localhost:8080/"
        },
        "id": "BsBgmnn1BBhW",
        "outputId": "1052c7c5-ee08-41f5-befb-5580a93a1432"
      },
      "execution_count": null,
      "outputs": [
        {
          "output_type": "stream",
          "name": "stdout",
          "text": [
            "recall:  [0.2, 0.4, 0.6, 0.8, 0.8, 0.8, 0.8, 0.8, 0.8]\n",
            "precision:  [1.0, 1.0, 1.0, 1.0, 0.8, 0.6666666666666666, 0.6666666666666666, 0.6666666666666666, 0.6666666666666666]\n"
          ]
        }
      ]
    },
    {
      "cell_type": "code",
      "source": [
        "plt.title('PR Curve', fontsize=15)\n",
        "plt.xlabel(\"Recall\", fontsize=15)\n",
        "plt.ylabel(\"Precision\", fontsize=15)\n",
        "plt.xlim(0, 1.05)\n",
        "plt.ylim(0.5, 1.05)\n",
        "plt.xticks(fontsize=12)\n",
        "plt.yticks(fontsize=12)\n",
        "plt.scatter(recall, precision)\n",
        "plt.plot(recall, precision)\n",
        "plt.show()"
      ],
      "metadata": {
        "colab": {
          "base_uri": "https://localhost:8080/",
          "height": 305
        },
        "id": "svS4PMppBDoe",
        "outputId": "380fcc22-4cb4-4668-a431-0c03f7aca429"
      },
      "execution_count": null,
      "outputs": [
        {
          "output_type": "display_data",
          "data": {
            "text/plain": [
              "<Figure size 432x288 with 1 Axes>"
            ],
            "image/png": "[encoded data removed]"
          },
          "metadata": {
            "needs_background": "light"
          }
        }
      ]
    },
    {
      "cell_type": "markdown",
      "source": [
        "# ROC Curve\n",
        "\n",
        "ROC Curve 是以 FPR 為 x 軸、 TPR 為 y 軸所繪製出來的圖，其中 FPR (偽陽性率) 為 1- Specificity、TPR 為 Sensitivity。\n",
        "當 FPR 越低 (Specificity—正確檢測出負樣本的機率越高)、TPR 越高表示模型越好，因此 ROC Curve 會越往左上方靠近，使得 AUC 越大。"
      ],
      "metadata": {
        "id": "QjgdAFRcMxME"
      }
    },
    {
      "cell_type": "markdown",
      "source": [
        "<img src=\"https://imgur.com/7FFgNRX.png\" width=300/>"
      ],
      "metadata": {
        "id": "LCm81v_HNPj_"
      }
    },
    {
      "cell_type": "markdown",
      "source": [
        "以二分類為例，假設目前總共有十個值\n",
        "\n",
        "* ground_truth 表示是否有病 -> 有病 (label=1)、沒有病 (label=0)\n",
        "\n",
        "* pred_score 為預測出是否有病的機率\n",
        "\n",
        "* threshold 設定為 0.5\n",
        "\n",
        "<img src=\"https://imgur.com/JwOt26q.png\" width=500/>"
      ],
      "metadata": {
        "id": "AoCjpPELiX2d"
      }
    },
    {
      "cell_type": "markdown",
      "source": [
        "根據模型的預測結果 score 進行排序\n",
        "\n",
        "<img src=\"https://imgur.com/JkKl3eK.png\" width=500/>"
      ],
      "metadata": {
        "id": "fkFYweoDiN4X"
      }
    },
    {
      "cell_type": "code",
      "source": [
        "ground_truth = np.array([1, 1, 0, 1, 0, 0, 1, 1, 0])\n",
        "pred_score = np.array([0.8, 0.4, 0.1, 0.7, 0.6, 0.2, 0.9, 0.8, 0.6])\n",
        "\n",
        "threshold = 0.5"
      ],
      "metadata": {
        "id": "xt3Lz7vIGExb"
      },
      "execution_count": null,
      "outputs": []
    },
    {
      "cell_type": "code",
      "source": [
        "zip_list = zip(ground_truth, pred_score)\n",
        "sort_zip_list = sorted(zip_list, key=lambda x:x[1], reverse=True)\n",
        "zip_list = zip(*sort_zip_list)\n",
        "ground_truth, pred_score = [np.array(list(x)) for x in zip_list]\n",
        "print(\"ground_truth: \", ground_truth)\n",
        "print(\"pred_score: \", pred_score)"
      ],
      "metadata": {
        "colab": {
          "base_uri": "https://localhost:8080/"
        },
        "id": "-nsl2dx2GIfB",
        "outputId": "414fca35-f088-4dcd-e634-2950bd46ebc4"
      },
      "execution_count": null,
      "outputs": [
        {
          "output_type": "stream",
          "name": "stdout",
          "text": [
            "ground_truth:  [1 1 1 1 0 0 1 0 0]\n",
            "pred_score:  [0.9 0.8 0.8 0.7 0.6 0.6 0.4 0.2 0.1]\n"
          ]
        }
      ]
    },
    {
      "cell_type": "markdown",
      "source": [
        "計算每個 pixel 各自的狀態"
      ],
      "metadata": {
        "id": "Pa0Gb8Klilkg"
      }
    },
    {
      "cell_type": "code",
      "source": [
        "def cal_state_list(ground_truth, pred_label):\n",
        "  nd = len(ground_truth)\n",
        "  tp_list = [0] * nd\n",
        "  tn_list = [0] * nd\n",
        "  fn_list = [0] * nd\n",
        "  fp_list = [0] * nd\n",
        "  for i in range(len(ground_truth)):\n",
        "    gt = ground_truth[i]\n",
        "    pred = pred_label[i]\n",
        "\n",
        "    if gt == 1 and pred == 1:\n",
        "      tp_list[i] = 1\n",
        "\n",
        "    elif gt == 1 and pred == 0:\n",
        "      fn_list[i] = 1\n",
        "    \n",
        "    elif gt == 0 and pred == 1:\n",
        "      fp_list[i] = 1\n",
        "\n",
        "    else:\n",
        "      tn_list[i] = 1\n",
        "\n",
        "  return tp_list, tn_list, fn_list, fp_list"
      ],
      "metadata": {
        "id": "Y9OwJ4vHGJEd"
      },
      "execution_count": null,
      "outputs": []
    },
    {
      "cell_type": "markdown",
      "source": [
        "從 rank =1 開始，一個一個 rank 計算。將各自的 score 作為閾值計算 TPR、FPR\n",
        "\n",
        "<img src=\"https://imgur.com/HvjVtnu.png\" width=500/>"
      ],
      "metadata": {
        "id": "8Hy-0sk0inlP"
      }
    },
    {
      "cell_type": "code",
      "source": [
        "for i in range(len(ground_truth)):\n",
        "  threshold = pred_score[i]\n",
        "\n",
        "  pred_label = np.where(pred_score>=threshold, 1, 0)\n",
        "  tp_list, tn_list, fn_list, fp_list = cal_state_list(ground_truth, pred_label)\n",
        "\n",
        "  tp_len = np.sum(tp_list)\n",
        "  tn_len = np.sum(tn_list)\n",
        "  fn_len = np.sum(fn_list)\n",
        "  fp_len = np.sum(fp_list)\n",
        "\n",
        "  cumsum = 0\n",
        "  for idx, val in enumerate(fp_list):\n",
        "      fp_list[idx] += cumsum\n",
        "      cumsum += val\n",
        "\n",
        "  cumsum = 0\n",
        "  for idx, val in enumerate(tp_list):\n",
        "      tp_list[idx] += cumsum\n",
        "      cumsum += val\n",
        "\n",
        "  tpr = tp_list[:]\n",
        "  for idx, val in enumerate(tp_list):\n",
        "      tpr[idx] = float(tp_list[idx]) / (tp_len + fn_len)\n",
        "\n",
        "  fpr = fp_list[:]\n",
        "  for idx, val in enumerate(fp_list):\n",
        "      fpr[idx] = float(fp_list[idx]) / (tn_len + fp_len)\n",
        "\n",
        "print(\"TPR: \", tpr)\n",
        "print(\"FPR: \", fpr)"
      ],
      "metadata": {
        "colab": {
          "base_uri": "https://localhost:8080/"
        },
        "id": "EwaZRgBkGW6p",
        "outputId": "6c182520-5809-4166-ec25-766e64ec84cf"
      },
      "execution_count": null,
      "outputs": [
        {
          "output_type": "stream",
          "name": "stdout",
          "text": [
            "TPR:  [0.2, 0.4, 0.6, 0.8, 0.8, 0.8, 1.0, 1.0, 1.0]\n",
            "FPR:  [0.0, 0.0, 0.0, 0.0, 0.25, 0.5, 0.5, 0.75, 1.0]\n"
          ]
        }
      ]
    },
    {
      "cell_type": "code",
      "source": [
        "plt.title('ROC Curve', fontsize=15)\n",
        "plt.xlabel(\"FPR\", fontsize=15)\n",
        "plt.ylabel(\"TPR\", fontsize=15)\n",
        "plt.xlim(0, 1)\n",
        "plt.ylim(0, 1.05)\n",
        "plt.xticks(fontsize=12)\n",
        "plt.yticks(fontsize=12)\n",
        "plt.scatter(fpr, tpr)\n",
        "plt.plot(fpr, tpr)\n",
        "plt.show()"
      ],
      "metadata": {
        "colab": {
          "base_uri": "https://localhost:8080/",
          "height": 305
        },
        "id": "irLnbTbiGXA_",
        "outputId": "42b66b22-c6a3-434d-cb19-c1635880c83c"
      },
      "execution_count": null,
      "outputs": [
        {
          "output_type": "display_data",
          "data": {
            "text/plain": [
              "<Figure size 432x288 with 1 Axes>"
            ],
            "image/png": "[encoded data removed]"
          },
          "metadata": {
            "needs_background": "light"
          }
        }
      ]
    },
    {
      "cell_type": "markdown",
      "source": [
        "# Dice\n",
        "\n",
        "Dice coefficient 用於評估 X、Y 的相似度，範圍在 0 ~ 1 之間，|𝑋|、|𝑌| 分別為 Ground Truth 和 predict\n",
        "\n",
        "<img src=\"https://imgur.com/rfIlcxh.png\" width=400/>\n",
        "\n"
      ],
      "metadata": {
        "id": "pNYwaCETIibe"
      }
    },
    {
      "cell_type": "code",
      "source": [
        "ground_truth = np.array([1, 1, 0, 1, 0, 0, 1, 1, 0])\n",
        "pred_label = np.array([1, 0, 0, 1, 1, 0, 1, 1, 1])"
      ],
      "metadata": {
        "id": "sXhbKGvjGXDh"
      },
      "execution_count": null,
      "outputs": []
    },
    {
      "cell_type": "code",
      "source": [
        "### tp\n",
        "# 所有實際與預測相同的值\n",
        "gt_equal_pred = np.where(ground_truth==pred_label, 1, 0)\n",
        "\n",
        "# 實際值與預測值相同，並且實際為真\n",
        "tp = np.sum(gt_equal_pred * ground_truth)\n",
        "\n",
        "### fn\n",
        "# 所有實際為真的數量去除掉 TP\n",
        "fn = np.sum(ground_truth) - tp\n",
        "\n",
        "### fp\n",
        "# 所有預測為真的數量去除掉 TP\n",
        "fp = np.sum(pred_label) - tp\n",
        "\n",
        "### tn\n",
        "# 所有實際為假的值\n",
        "gt_is_false = np.where(np.logical_not(ground_truth), 1, 0)\n",
        "\n",
        "# 實際值與預測值相同，並且預測為假\n",
        "tn = np.sum(gt_equal_pred * gt_is_false)\n",
        "\n",
        "print(\"tp: \", tp)\n",
        "print(\"fn: \", fn)\n",
        "print(\"fp: \", fp)\n",
        "print(\"tn: \", tn)"
      ],
      "metadata": {
        "colab": {
          "base_uri": "https://localhost:8080/"
        },
        "id": "3RNhZy_gNkSL",
        "outputId": "d4005672-c8a6-4348-93d9-ff7fa4f2c46d"
      },
      "execution_count": null,
      "outputs": [
        {
          "output_type": "stream",
          "name": "stdout",
          "text": [
            "tp:  4\n",
            "fn:  1\n",
            "fp:  2\n",
            "tn:  2\n"
          ]
        }
      ]
    },
    {
      "cell_type": "code",
      "source": [
        "dice = 2*tp / (2*tp + fn + fp)\n",
        "print(\"dice: \", dice)"
      ],
      "metadata": {
        "colab": {
          "base_uri": "https://localhost:8080/"
        },
        "id": "saGkbCkwNkUU",
        "outputId": "350287c1-3b1e-4742-f6f5-d3fba966b8c3"
      },
      "execution_count": null,
      "outputs": [
        {
          "output_type": "stream",
          "name": "stdout",
          "text": [
            "dice:  0.7272727272727273\n"
          ]
        }
      ]
    },
    {
      "cell_type": "code",
      "source": [],
      "metadata": {
        "id": "MyXI6ZqeNvAv"
      },
      "execution_count": null,
      "outputs": []
    }
  ]
}